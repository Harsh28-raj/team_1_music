{
  "cells": [
    {
      "cell_type": "markdown",
      "metadata": {
        "id": "view-in-github",
        "colab_type": "text"
      },
      "source": [
        "<a href=\"https://colab.research.google.com/github/Harsh28-raj/team_1_music/blob/main/Untitled3.ipynb\" target=\"_parent\"><img src=\"https://colab.research.google.com/assets/colab-badge.svg\" alt=\"Open In Colab\"/></a>"
      ]
    },
    {
      "cell_type": "code",
      "execution_count": null,
      "metadata": {
        "id": "PN6uVHm7IMK0"
      },
      "outputs": [],
      "source": [
        "import pandas as pd\n",
        "import numpy as np\n",
        "import matplotlib as plt\n",
        "import seaborn as sns\n",
        "import matplotlib.pyplot as plt"
      ]
    },
    {
      "cell_type": "code",
      "execution_count": null,
      "metadata": {
        "id": "ZTo8fJoJJ7hn"
      },
      "outputs": [],
      "source": [
        "df = pd.read_csv(\"/content/music datset.csv\")\n",
        "df.head()"
      ]
    },
    {
      "cell_type": "code",
      "execution_count": null,
      "metadata": {
        "id": "y0G_HjlypBTw"
      },
      "outputs": [],
      "source": [
        "df.info()"
      ]
    },
    {
      "cell_type": "code",
      "execution_count": null,
      "metadata": {
        "id": "VLgWZjwy7Xx-"
      },
      "outputs": [],
      "source": [
        "df.describe()"
      ]
    },
    {
      "cell_type": "code",
      "execution_count": null,
      "metadata": {
        "id": "yyiEfgfcn_N1"
      },
      "outputs": [],
      "source": [
        "irrelevant_columns = [\n",
        "    'playlist_name',\n",
        "    'track_artist',\n",
        "    'track_album_name',\n",
        "    'id',\n",
        "    'analysis_url'\n",
        "]\n",
        "#droping irrevent columns\n",
        "df.drop(columns=irrelevant_columns, inplace=True)\n"
      ]
    },
    {
      "cell_type": "code",
      "execution_count": null,
      "metadata": {
        "id": "IifusP_q8iSj"
      },
      "outputs": [],
      "source": [
        "#columns left after removing irrelvent cols\n",
        "df.head()"
      ]
    },
    {
      "cell_type": "code",
      "execution_count": null,
      "metadata": {
        "id": "70ZbHV_OIkjI"
      },
      "outputs": [],
      "source": [
        "df.info()"
      ]
    },
    {
      "cell_type": "code",
      "execution_count": null,
      "metadata": {
        "id": "4aJQwCXsKJkq"
      },
      "outputs": [],
      "source": [
        "#checking for missing values\n",
        "df.isnull().sum()"
      ]
    },
    {
      "cell_type": "markdown",
      "metadata": {
        "id": "L6XBhZ7PrYZ7"
      },
      "source": [
        "handling the missing values\n",
        "1.replacing numerical missing :-- median\n",
        "2.          categorical          :--      mode"
      ]
    },
    {
      "cell_type": "code",
      "execution_count": null,
      "metadata": {
        "id": "JZMOVm2dqft-"
      },
      "outputs": [],
      "source": [
        "num_cols = ['time_signature', 'speechiness', 'danceability', 'duration_ms', 'energy', 'mode',\n",
        "                  'instrumentalness', 'valence', 'key', 'tempo', 'loudness', 'acousticness', 'liveness']\n",
        "\n",
        "for col in num_cols:\n",
        "    df[col].fillna(df[col].median(), inplace=True)"
      ]
    },
    {
      "cell_type": "code",
      "execution_count": null,
      "metadata": {
        "id": "xefQ6fLXr-wW"
      },
      "outputs": [],
      "source": [
        "categ_cols = ['track_href', 'type']\n",
        "\n",
        "for col in categ_cols:\n",
        "    df[col].fillna(df[col].mode()[0], inplace=True)"
      ]
    },
    {
      "cell_type": "code",
      "execution_count": null,
      "metadata": {
        "id": "SFimu7vKsDTi"
      },
      "outputs": [],
      "source": [
        "print(\"Missing values after handling:\")\n",
        "df.isnull().sum()"
      ]
    },
    {
      "cell_type": "code",
      "source": [
        "#shape before cleaning\n",
        "df.shape"
      ],
      "metadata": {
        "id": "bwAkgbkbeVam"
      },
      "execution_count": null,
      "outputs": []
    },
    {
      "cell_type": "code",
      "execution_count": null,
      "metadata": {
        "id": "O3TYCPU9s7ZZ"
      },
      "outputs": [],
      "source": [
        "num_cols = df.select_dtypes(include=['number']).columns\n",
        "\n",
        "for col in num_cols:\n",
        "    plt.figure(figsize=(6, 4))\n",
        "    sns.boxplot(y=df[col])\n",
        "    plt.title(f\"Boxplot of {col}\")\n",
        "\n"
      ]
    },
    {
      "cell_type": "markdown",
      "metadata": {
        "id": "EFenzgK__eFS"
      },
      "source": [
        "#  Handling Outliers"
      ]
    },
    {
      "cell_type": "code",
      "execution_count": null,
      "metadata": {
        "id": "gNRRy_O81pEl"
      },
      "outputs": [],
      "source": [
        "# Log Transform\n",
        "df['speechiness'] = np.log1p(df['speechiness'])\n",
        "df['liveness'] = np.log1p(df['liveness'])"
      ]
    },
    {
      "cell_type": "code",
      "execution_count": null,
      "metadata": {
        "id": "GOuzN--6_GBZ"
      },
      "outputs": [],
      "source": [
        "#Capping\n",
        "lower_bound = df['loudness'].quantile(0.01)\n",
        "upper_bound = df['loudness'].quantile(0.99)\n",
        "df['loudness'] = df['loudness'].clip(lower=lower_bound, upper=upper_bound)"
      ]
    },
    {
      "cell_type": "code",
      "execution_count": null,
      "metadata": {
        "id": "x7ctm-mt_Khl"
      },
      "outputs": [],
      "source": [
        "# Trimming\n",
        "Q1 = df['tempo'].quantile(0.25)\n",
        "Q3 = df['tempo'].quantile(0.75)\n",
        "IQR = Q3 - Q1\n",
        "upper_bound_tempo = Q3 + 1.5 * IQR\n",
        "lower_bound_tempo = Q1 - 1.5 * IQR\n",
        "df = df[(df['tempo'] >= lower_bound_tempo) & (df['tempo'] <= upper_bound_tempo)]"
      ]
    },
    {
      "cell_type": "code",
      "execution_count": null,
      "metadata": {
        "id": "NjxNRhNX_NiH"
      },
      "outputs": [],
      "source": [
        "print(\"Shape after cleaning:\")\n",
        "df.shape"
      ]
    },
    {
      "cell_type": "code",
      "source": [
        "print(\"Cleaned DataFrame head:\")\n",
        "df.head()"
      ],
      "metadata": {
        "id": "8SF6fImrerjj"
      },
      "execution_count": null,
      "outputs": []
    }
  ],
  "metadata": {
    "colab": {
      "provenance": [],
      "authorship_tag": "ABX9TyMQmGQQhJAKnqgq45MF8Fww",
      "include_colab_link": true
    },
    "kernelspec": {
      "display_name": "Python 3",
      "name": "python3"
    },
    "language_info": {
      "name": "python"
    }
  },
  "nbformat": 4,
  "nbformat_minor": 0
}